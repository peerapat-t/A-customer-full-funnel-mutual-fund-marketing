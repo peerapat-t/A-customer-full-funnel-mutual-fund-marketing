{
 "cells": [
  {
   "cell_type": "code",
   "execution_count": 107,
   "id": "cd934bc7-e425-43e5-8460-1e170070d309",
   "metadata": {
    "tags": []
   },
   "outputs": [],
   "source": [
    "from sklearn.datasets import make_multilabel_classification, make_blobs\n",
    "from sklearn.utils import resample\n",
    "import pandas as pd\n",
    "import numpy as np\n",
    "import random"
   ]
  },
  {
   "cell_type": "markdown",
   "id": "7ea02c2f-66fe-4b27-a0fc-3a3f79d37bdc",
   "metadata": {
    "tags": []
   },
   "source": [
    "# 1. sign up prediction"
   ]
  },
  {
   "cell_type": "code",
   "execution_count": 3,
   "id": "da0f5ba2-88c8-4520-97e9-f1d90b8924f9",
   "metadata": {
    "tags": []
   },
   "outputs": [],
   "source": [
    "centers_signup_adjusted = [\n",
    "    [100, 100, 100, 200, 100, 500, 100, 100, 300, 1200, 50, 120000, 0, 0, 0],  # Group with signup_flag = 1\n",
    "    [90, 80, 110, 201, 70, 490, 90, 90, 290, 1100, 30, 120000, 0, 0, 0]           # Group with signup_flag = 0\n",
    "]"
   ]
  },
  {
   "cell_type": "code",
   "execution_count": 4,
   "id": "46120b95-6b13-4bec-9583-7b4dde8d645a",
   "metadata": {
    "tags": []
   },
   "outputs": [],
   "source": [
    "n_samples = 100000\n",
    "n_features = len(centers_signup_adjusted[0])"
   ]
  },
  {
   "cell_type": "code",
   "execution_count": 5,
   "id": "463a3601-7143-4c40-99c0-47d625c8c49d",
   "metadata": {
    "tags": []
   },
   "outputs": [],
   "source": [
    "X, y = make_blobs(n_samples=n_samples, centers=centers_signup_adjusted, cluster_std=100, n_features=n_features, random_state=42)"
   ]
  },
  {
   "cell_type": "code",
   "execution_count": 6,
   "id": "2446f8ff-1c40-4754-a7ac-6f1affb271cd",
   "metadata": {
    "tags": []
   },
   "outputs": [],
   "source": [
    "columns = [\n",
    "    \"pages_visited\", \"clicks\", \"features_explored\", \"signup_offer_used\", \"referral_flag\",\n",
    "    \"video_views\", \"forms_completed\", \"likes_given\", \"search_queries\", \"scroll_depth\",\n",
    "    \"age\", \"income\", \"location\", \"time_of_day\", \"device_type\"\n",
    "]"
   ]
  },
  {
   "cell_type": "code",
   "execution_count": 7,
   "id": "dda9778f-5521-4c02-b68b-61f1397ab53f",
   "metadata": {
    "tags": []
   },
   "outputs": [],
   "source": [
    "df1 = pd.DataFrame(X, columns=columns)"
   ]
  },
  {
   "cell_type": "code",
   "execution_count": 8,
   "id": "0afa63dd-9029-4a07-b1e6-68c73d271b45",
   "metadata": {
    "tags": []
   },
   "outputs": [],
   "source": [
    "df1['signup_flag'] = y"
   ]
  },
  {
   "cell_type": "code",
   "execution_count": 9,
   "id": "6abe05a9-d6ac-4fae-bbd6-909810c0ff62",
   "metadata": {
    "tags": []
   },
   "outputs": [],
   "source": [
    "int_columns = [\n",
    "    \"pages_visited\", \"clicks\", \"features_explored\", \"signup_offer_used\", \"referral_flag\",\n",
    "    \"video_views\", \"forms_completed\", \"likes_given\", \"search_queries\", \"scroll_depth\",\n",
    "    \"age\", \"location\", \"time_of_day\", \"device_type\"\n",
    "]"
   ]
  },
  {
   "cell_type": "code",
   "execution_count": 10,
   "id": "3da5d1db-1dc0-4b9a-ab4c-ad94b69b24b9",
   "metadata": {
    "tags": []
   },
   "outputs": [],
   "source": [
    "df1[int_columns] = df1[int_columns].round(0).astype(int)"
   ]
  },
  {
   "cell_type": "code",
   "execution_count": 11,
   "id": "d30ca6d4-613b-47e3-b542-4dee57131c04",
   "metadata": {
    "tags": []
   },
   "outputs": [
    {
     "data": {
      "text/html": [
       "<div>\n",
       "<style scoped>\n",
       "    .dataframe tbody tr th:only-of-type {\n",
       "        vertical-align: middle;\n",
       "    }\n",
       "\n",
       "    .dataframe tbody tr th {\n",
       "        vertical-align: top;\n",
       "    }\n",
       "\n",
       "    .dataframe thead th {\n",
       "        text-align: right;\n",
       "    }\n",
       "</style>\n",
       "<table border=\"1\" class=\"dataframe\">\n",
       "  <thead>\n",
       "    <tr style=\"text-align: right;\">\n",
       "      <th></th>\n",
       "      <th>pages_visited</th>\n",
       "      <th>clicks</th>\n",
       "      <th>features_explored</th>\n",
       "      <th>signup_offer_used</th>\n",
       "      <th>referral_flag</th>\n",
       "      <th>video_views</th>\n",
       "      <th>forms_completed</th>\n",
       "      <th>likes_given</th>\n",
       "      <th>search_queries</th>\n",
       "      <th>scroll_depth</th>\n",
       "      <th>age</th>\n",
       "      <th>income</th>\n",
       "      <th>location</th>\n",
       "      <th>time_of_day</th>\n",
       "      <th>device_type</th>\n",
       "      <th>signup_flag</th>\n",
       "    </tr>\n",
       "  </thead>\n",
       "  <tbody>\n",
       "    <tr>\n",
       "      <th>0</th>\n",
       "      <td>190</td>\n",
       "      <td>29</td>\n",
       "      <td>172</td>\n",
       "      <td>279</td>\n",
       "      <td>115</td>\n",
       "      <td>725</td>\n",
       "      <td>173</td>\n",
       "      <td>19</td>\n",
       "      <td>208</td>\n",
       "      <td>1257</td>\n",
       "      <td>14</td>\n",
       "      <td>120047.346759</td>\n",
       "      <td>-163</td>\n",
       "      <td>-82</td>\n",
       "      <td>13</td>\n",
       "      <td>0</td>\n",
       "    </tr>\n",
       "    <tr>\n",
       "      <th>1</th>\n",
       "      <td>234</td>\n",
       "      <td>216</td>\n",
       "      <td>-52</td>\n",
       "      <td>146</td>\n",
       "      <td>117</td>\n",
       "      <td>563</td>\n",
       "      <td>121</td>\n",
       "      <td>175</td>\n",
       "      <td>215</td>\n",
       "      <td>1342</td>\n",
       "      <td>-19</td>\n",
       "      <td>119914.671927</td>\n",
       "      <td>57</td>\n",
       "      <td>-122</td>\n",
       "      <td>-18</td>\n",
       "      <td>0</td>\n",
       "    </tr>\n",
       "    <tr>\n",
       "      <th>2</th>\n",
       "      <td>238</td>\n",
       "      <td>145</td>\n",
       "      <td>198</td>\n",
       "      <td>-11</td>\n",
       "      <td>17</td>\n",
       "      <td>518</td>\n",
       "      <td>-1</td>\n",
       "      <td>130</td>\n",
       "      <td>307</td>\n",
       "      <td>1171</td>\n",
       "      <td>113</td>\n",
       "      <td>120040.380392</td>\n",
       "      <td>-62</td>\n",
       "      <td>-17</td>\n",
       "      <td>-110</td>\n",
       "      <td>0</td>\n",
       "    </tr>\n",
       "    <tr>\n",
       "      <th>3</th>\n",
       "      <td>-25</td>\n",
       "      <td>55</td>\n",
       "      <td>106</td>\n",
       "      <td>316</td>\n",
       "      <td>-21</td>\n",
       "      <td>562</td>\n",
       "      <td>182</td>\n",
       "      <td>103</td>\n",
       "      <td>512</td>\n",
       "      <td>977</td>\n",
       "      <td>-11</td>\n",
       "      <td>119930.859135</td>\n",
       "      <td>-7</td>\n",
       "      <td>-12</td>\n",
       "      <td>179</td>\n",
       "      <td>1</td>\n",
       "    </tr>\n",
       "    <tr>\n",
       "      <th>4</th>\n",
       "      <td>-39</td>\n",
       "      <td>162</td>\n",
       "      <td>312</td>\n",
       "      <td>221</td>\n",
       "      <td>-17</td>\n",
       "      <td>582</td>\n",
       "      <td>67</td>\n",
       "      <td>115</td>\n",
       "      <td>274</td>\n",
       "      <td>1229</td>\n",
       "      <td>149</td>\n",
       "      <td>120008.866412</td>\n",
       "      <td>0</td>\n",
       "      <td>-8</td>\n",
       "      <td>146</td>\n",
       "      <td>0</td>\n",
       "    </tr>\n",
       "  </tbody>\n",
       "</table>\n",
       "</div>"
      ],
      "text/plain": [
       "   pages_visited  clicks  features_explored  signup_offer_used  referral_flag  \\\n",
       "0            190      29                172                279            115   \n",
       "1            234     216                -52                146            117   \n",
       "2            238     145                198                -11             17   \n",
       "3            -25      55                106                316            -21   \n",
       "4            -39     162                312                221            -17   \n",
       "\n",
       "   video_views  forms_completed  likes_given  search_queries  scroll_depth  \\\n",
       "0          725              173           19             208          1257   \n",
       "1          563              121          175             215          1342   \n",
       "2          518               -1          130             307          1171   \n",
       "3          562              182          103             512           977   \n",
       "4          582               67          115             274          1229   \n",
       "\n",
       "   age         income  location  time_of_day  device_type  signup_flag  \n",
       "0   14  120047.346759      -163          -82           13            0  \n",
       "1  -19  119914.671927        57         -122          -18            0  \n",
       "2  113  120040.380392       -62          -17         -110            0  \n",
       "3  -11  119930.859135        -7          -12          179            1  \n",
       "4  149  120008.866412         0           -8          146            0  "
      ]
     },
     "execution_count": 11,
     "metadata": {},
     "output_type": "execute_result"
    }
   ],
   "source": [
    "df1.head()"
   ]
  },
  {
   "cell_type": "code",
   "execution_count": 12,
   "id": "3521381e-d96e-481f-9952-1e94c1e432c9",
   "metadata": {
    "tags": []
   },
   "outputs": [],
   "source": [
    "location_values = ['urban', 'suburban', 'rural']\n",
    "time_of_day_values = ['afternoon', 'evening', 'night', 'morning']\n",
    "device_type_values = ['mobile', 'tablet', 'desktop']"
   ]
  },
  {
   "cell_type": "code",
   "execution_count": 13,
   "id": "adbb02a6-76d5-49fb-99c8-2776a50761b2",
   "metadata": {
    "tags": []
   },
   "outputs": [],
   "source": [
    "df1['location'] = np.random.choice(location_values, size=len(df1))\n",
    "df1['time_of_day'] = np.random.choice(time_of_day_values, size=len(df1))\n",
    "df1['device_type'] = np.random.choice(device_type_values, size=len(df1))"
   ]
  },
  {
   "cell_type": "code",
   "execution_count": 14,
   "id": "1c3336ce-28d7-4bd8-a1e7-2647fef84ac2",
   "metadata": {
    "tags": []
   },
   "outputs": [],
   "source": [
    "df1[\"customer_id\"] = range(1, len(df1) + 1)"
   ]
  },
  {
   "cell_type": "code",
   "execution_count": 15,
   "id": "38962a7f-15e8-4625-ba52-45d7d29ff4a6",
   "metadata": {},
   "outputs": [],
   "source": [
    "df1['pages_visited'] = np.clip(df1['pages_visited'], 0, 150)\n",
    "df1['clicks'] = np.clip(df1['clicks'], 0, 150)\n",
    "df1['features_explored'] = np.clip(df1['features_explored'], 0, 150)\n",
    "df1['signup_offer_used'] = np.clip(df1['signup_offer_used'], 0, 250)\n",
    "df1['referral_flag'] = np.clip(df1['referral_flag'], 0, 150)\n",
    "df1['video_views'] = np.clip(df1['video_views'], 0, 600)\n",
    "df1['forms_completed'] = np.clip(df1['forms_completed'], 0, 150)\n",
    "df1['likes_given'] = np.clip(df1['likes_given'], 0, 150)\n",
    "df1['search_queries'] = np.clip(df1['search_queries'], 0, 300)\n",
    "df1['scroll_depth'] = np.clip(df1['scroll_depth'], 0, 1500)\n",
    "df1['age'] = np.clip(df1['age'], 18, 75)\n",
    "df1['income'] = np.clip(df1['income'], 30000, 120000)"
   ]
  },
  {
   "cell_type": "code",
   "execution_count": 16,
   "id": "0e70751a-a027-44fb-89ac-f1cb345ac2ee",
   "metadata": {
    "tags": []
   },
   "outputs": [
    {
     "data": {
      "text/html": [
       "<div>\n",
       "<style scoped>\n",
       "    .dataframe tbody tr th:only-of-type {\n",
       "        vertical-align: middle;\n",
       "    }\n",
       "\n",
       "    .dataframe tbody tr th {\n",
       "        vertical-align: top;\n",
       "    }\n",
       "\n",
       "    .dataframe thead th {\n",
       "        text-align: right;\n",
       "    }\n",
       "</style>\n",
       "<table border=\"1\" class=\"dataframe\">\n",
       "  <thead>\n",
       "    <tr style=\"text-align: right;\">\n",
       "      <th></th>\n",
       "      <th>pages_visited</th>\n",
       "      <th>clicks</th>\n",
       "      <th>features_explored</th>\n",
       "      <th>signup_offer_used</th>\n",
       "      <th>referral_flag</th>\n",
       "      <th>video_views</th>\n",
       "      <th>forms_completed</th>\n",
       "      <th>likes_given</th>\n",
       "      <th>search_queries</th>\n",
       "      <th>scroll_depth</th>\n",
       "      <th>age</th>\n",
       "      <th>income</th>\n",
       "      <th>location</th>\n",
       "      <th>time_of_day</th>\n",
       "      <th>device_type</th>\n",
       "      <th>signup_flag</th>\n",
       "      <th>customer_id</th>\n",
       "    </tr>\n",
       "  </thead>\n",
       "  <tbody>\n",
       "    <tr>\n",
       "      <th>0</th>\n",
       "      <td>150</td>\n",
       "      <td>29</td>\n",
       "      <td>150</td>\n",
       "      <td>250</td>\n",
       "      <td>115</td>\n",
       "      <td>600</td>\n",
       "      <td>150</td>\n",
       "      <td>19</td>\n",
       "      <td>208</td>\n",
       "      <td>1257</td>\n",
       "      <td>18</td>\n",
       "      <td>120000.000000</td>\n",
       "      <td>urban</td>\n",
       "      <td>afternoon</td>\n",
       "      <td>mobile</td>\n",
       "      <td>0</td>\n",
       "      <td>1</td>\n",
       "    </tr>\n",
       "    <tr>\n",
       "      <th>1</th>\n",
       "      <td>150</td>\n",
       "      <td>150</td>\n",
       "      <td>0</td>\n",
       "      <td>146</td>\n",
       "      <td>117</td>\n",
       "      <td>563</td>\n",
       "      <td>121</td>\n",
       "      <td>150</td>\n",
       "      <td>215</td>\n",
       "      <td>1342</td>\n",
       "      <td>18</td>\n",
       "      <td>119914.671927</td>\n",
       "      <td>urban</td>\n",
       "      <td>afternoon</td>\n",
       "      <td>desktop</td>\n",
       "      <td>0</td>\n",
       "      <td>2</td>\n",
       "    </tr>\n",
       "    <tr>\n",
       "      <th>2</th>\n",
       "      <td>150</td>\n",
       "      <td>145</td>\n",
       "      <td>150</td>\n",
       "      <td>0</td>\n",
       "      <td>17</td>\n",
       "      <td>518</td>\n",
       "      <td>0</td>\n",
       "      <td>130</td>\n",
       "      <td>300</td>\n",
       "      <td>1171</td>\n",
       "      <td>75</td>\n",
       "      <td>120000.000000</td>\n",
       "      <td>urban</td>\n",
       "      <td>night</td>\n",
       "      <td>desktop</td>\n",
       "      <td>0</td>\n",
       "      <td>3</td>\n",
       "    </tr>\n",
       "    <tr>\n",
       "      <th>3</th>\n",
       "      <td>0</td>\n",
       "      <td>55</td>\n",
       "      <td>106</td>\n",
       "      <td>250</td>\n",
       "      <td>0</td>\n",
       "      <td>562</td>\n",
       "      <td>150</td>\n",
       "      <td>103</td>\n",
       "      <td>300</td>\n",
       "      <td>977</td>\n",
       "      <td>18</td>\n",
       "      <td>119930.859135</td>\n",
       "      <td>rural</td>\n",
       "      <td>night</td>\n",
       "      <td>tablet</td>\n",
       "      <td>1</td>\n",
       "      <td>4</td>\n",
       "    </tr>\n",
       "    <tr>\n",
       "      <th>4</th>\n",
       "      <td>0</td>\n",
       "      <td>150</td>\n",
       "      <td>150</td>\n",
       "      <td>221</td>\n",
       "      <td>0</td>\n",
       "      <td>582</td>\n",
       "      <td>67</td>\n",
       "      <td>115</td>\n",
       "      <td>274</td>\n",
       "      <td>1229</td>\n",
       "      <td>75</td>\n",
       "      <td>120000.000000</td>\n",
       "      <td>urban</td>\n",
       "      <td>morning</td>\n",
       "      <td>tablet</td>\n",
       "      <td>0</td>\n",
       "      <td>5</td>\n",
       "    </tr>\n",
       "    <tr>\n",
       "      <th>...</th>\n",
       "      <td>...</td>\n",
       "      <td>...</td>\n",
       "      <td>...</td>\n",
       "      <td>...</td>\n",
       "      <td>...</td>\n",
       "      <td>...</td>\n",
       "      <td>...</td>\n",
       "      <td>...</td>\n",
       "      <td>...</td>\n",
       "      <td>...</td>\n",
       "      <td>...</td>\n",
       "      <td>...</td>\n",
       "      <td>...</td>\n",
       "      <td>...</td>\n",
       "      <td>...</td>\n",
       "      <td>...</td>\n",
       "      <td>...</td>\n",
       "    </tr>\n",
       "    <tr>\n",
       "      <th>99995</th>\n",
       "      <td>57</td>\n",
       "      <td>12</td>\n",
       "      <td>76</td>\n",
       "      <td>169</td>\n",
       "      <td>67</td>\n",
       "      <td>473</td>\n",
       "      <td>0</td>\n",
       "      <td>150</td>\n",
       "      <td>189</td>\n",
       "      <td>1051</td>\n",
       "      <td>75</td>\n",
       "      <td>120000.000000</td>\n",
       "      <td>suburban</td>\n",
       "      <td>afternoon</td>\n",
       "      <td>mobile</td>\n",
       "      <td>1</td>\n",
       "      <td>99996</td>\n",
       "    </tr>\n",
       "    <tr>\n",
       "      <th>99996</th>\n",
       "      <td>150</td>\n",
       "      <td>0</td>\n",
       "      <td>104</td>\n",
       "      <td>250</td>\n",
       "      <td>0</td>\n",
       "      <td>587</td>\n",
       "      <td>150</td>\n",
       "      <td>139</td>\n",
       "      <td>300</td>\n",
       "      <td>1108</td>\n",
       "      <td>18</td>\n",
       "      <td>120000.000000</td>\n",
       "      <td>rural</td>\n",
       "      <td>afternoon</td>\n",
       "      <td>mobile</td>\n",
       "      <td>1</td>\n",
       "      <td>99997</td>\n",
       "    </tr>\n",
       "    <tr>\n",
       "      <th>99997</th>\n",
       "      <td>89</td>\n",
       "      <td>37</td>\n",
       "      <td>150</td>\n",
       "      <td>194</td>\n",
       "      <td>150</td>\n",
       "      <td>576</td>\n",
       "      <td>123</td>\n",
       "      <td>71</td>\n",
       "      <td>300</td>\n",
       "      <td>1032</td>\n",
       "      <td>18</td>\n",
       "      <td>119732.806885</td>\n",
       "      <td>urban</td>\n",
       "      <td>night</td>\n",
       "      <td>mobile</td>\n",
       "      <td>1</td>\n",
       "      <td>99998</td>\n",
       "    </tr>\n",
       "    <tr>\n",
       "      <th>99998</th>\n",
       "      <td>0</td>\n",
       "      <td>20</td>\n",
       "      <td>150</td>\n",
       "      <td>228</td>\n",
       "      <td>150</td>\n",
       "      <td>489</td>\n",
       "      <td>31</td>\n",
       "      <td>22</td>\n",
       "      <td>251</td>\n",
       "      <td>1045</td>\n",
       "      <td>75</td>\n",
       "      <td>119987.209684</td>\n",
       "      <td>rural</td>\n",
       "      <td>evening</td>\n",
       "      <td>desktop</td>\n",
       "      <td>0</td>\n",
       "      <td>99999</td>\n",
       "    </tr>\n",
       "    <tr>\n",
       "      <th>99999</th>\n",
       "      <td>82</td>\n",
       "      <td>150</td>\n",
       "      <td>150</td>\n",
       "      <td>146</td>\n",
       "      <td>0</td>\n",
       "      <td>376</td>\n",
       "      <td>150</td>\n",
       "      <td>0</td>\n",
       "      <td>297</td>\n",
       "      <td>1102</td>\n",
       "      <td>18</td>\n",
       "      <td>119970.762465</td>\n",
       "      <td>urban</td>\n",
       "      <td>morning</td>\n",
       "      <td>mobile</td>\n",
       "      <td>0</td>\n",
       "      <td>100000</td>\n",
       "    </tr>\n",
       "  </tbody>\n",
       "</table>\n",
       "<p>100000 rows × 17 columns</p>\n",
       "</div>"
      ],
      "text/plain": [
       "       pages_visited  clicks  features_explored  signup_offer_used  \\\n",
       "0                150      29                150                250   \n",
       "1                150     150                  0                146   \n",
       "2                150     145                150                  0   \n",
       "3                  0      55                106                250   \n",
       "4                  0     150                150                221   \n",
       "...              ...     ...                ...                ...   \n",
       "99995             57      12                 76                169   \n",
       "99996            150       0                104                250   \n",
       "99997             89      37                150                194   \n",
       "99998              0      20                150                228   \n",
       "99999             82     150                150                146   \n",
       "\n",
       "       referral_flag  video_views  forms_completed  likes_given  \\\n",
       "0                115          600              150           19   \n",
       "1                117          563              121          150   \n",
       "2                 17          518                0          130   \n",
       "3                  0          562              150          103   \n",
       "4                  0          582               67          115   \n",
       "...              ...          ...              ...          ...   \n",
       "99995             67          473                0          150   \n",
       "99996              0          587              150          139   \n",
       "99997            150          576              123           71   \n",
       "99998            150          489               31           22   \n",
       "99999              0          376              150            0   \n",
       "\n",
       "       search_queries  scroll_depth  age         income  location time_of_day  \\\n",
       "0                 208          1257   18  120000.000000     urban   afternoon   \n",
       "1                 215          1342   18  119914.671927     urban   afternoon   \n",
       "2                 300          1171   75  120000.000000     urban       night   \n",
       "3                 300           977   18  119930.859135     rural       night   \n",
       "4                 274          1229   75  120000.000000     urban     morning   \n",
       "...               ...           ...  ...            ...       ...         ...   \n",
       "99995             189          1051   75  120000.000000  suburban   afternoon   \n",
       "99996             300          1108   18  120000.000000     rural   afternoon   \n",
       "99997             300          1032   18  119732.806885     urban       night   \n",
       "99998             251          1045   75  119987.209684     rural     evening   \n",
       "99999             297          1102   18  119970.762465     urban     morning   \n",
       "\n",
       "      device_type  signup_flag  customer_id  \n",
       "0          mobile            0            1  \n",
       "1         desktop            0            2  \n",
       "2         desktop            0            3  \n",
       "3          tablet            1            4  \n",
       "4          tablet            0            5  \n",
       "...           ...          ...          ...  \n",
       "99995      mobile            1        99996  \n",
       "99996      mobile            1        99997  \n",
       "99997      mobile            1        99998  \n",
       "99998     desktop            0        99999  \n",
       "99999      mobile            0       100000  \n",
       "\n",
       "[100000 rows x 17 columns]"
      ]
     },
     "execution_count": 16,
     "metadata": {},
     "output_type": "execute_result"
    }
   ],
   "source": [
    "df1"
   ]
  },
  {
   "cell_type": "code",
   "execution_count": 17,
   "id": "d31621b7-8ca6-4f46-a300-0d2e9e339199",
   "metadata": {
    "tags": []
   },
   "outputs": [],
   "source": [
    "def randomly_delete_target_1_multilabel(df, target_column_list, fraction_to_keep=0.2, random_state=42):\n",
    "    \n",
    "    df_list = []\n",
    "    \n",
    "    # Loop over each target column\n",
    "    for target_column in target_column_list:\n",
    "        # Identify rows where the target column has value 1\n",
    "        df_target_1 = df[df[target_column] == 1]\n",
    "        # Randomly sample rows to retain for target = 1\n",
    "        df_target_1_sampled = df_target_1.sample(frac=fraction_to_keep, random_state=random_state)\n",
    "        # Append sampled rows to the list\n",
    "        df_list.append(df_target_1_sampled)\n",
    "    \n",
    "    # Combine all sampled rows for target columns with 1s\n",
    "    df_target_1_combined = pd.concat(df_list).drop_duplicates().reset_index(drop=True)\n",
    "    \n",
    "    # Combine with rows where all target columns are 0 (no multilabel match for 1)\n",
    "    df_target_0 = df[(df[target_column_list] == 0).all(axis=1)]\n",
    "    df_final = pd.concat([df_target_0, df_target_1_combined]).reset_index(drop=True)\n",
    "    \n",
    "    return df_final"
   ]
  },
  {
   "cell_type": "code",
   "execution_count": 18,
   "id": "3accdf46-8e1d-4b47-bda7-d61ba46348cc",
   "metadata": {
    "tags": []
   },
   "outputs": [],
   "source": [
    "df1_imbalanced = randomly_delete_target_1_multilabel(df1, ['signup_flag'])"
   ]
  },
  {
   "cell_type": "code",
   "execution_count": 19,
   "id": "cc218d27-731e-4890-a226-8b5c9736b911",
   "metadata": {
    "tags": []
   },
   "outputs": [
    {
     "data": {
      "text/plain": [
       "(60000, 17)"
      ]
     },
     "execution_count": 19,
     "metadata": {},
     "output_type": "execute_result"
    }
   ],
   "source": [
    "df1_imbalanced.shape"
   ]
  },
  {
   "cell_type": "code",
   "execution_count": 20,
   "id": "81b572b6-df7c-4d10-b4ba-ac5a12f91deb",
   "metadata": {
    "tags": []
   },
   "outputs": [
    {
     "data": {
      "text/html": [
       "<div>\n",
       "<style scoped>\n",
       "    .dataframe tbody tr th:only-of-type {\n",
       "        vertical-align: middle;\n",
       "    }\n",
       "\n",
       "    .dataframe tbody tr th {\n",
       "        vertical-align: top;\n",
       "    }\n",
       "\n",
       "    .dataframe thead th {\n",
       "        text-align: right;\n",
       "    }\n",
       "</style>\n",
       "<table border=\"1\" class=\"dataframe\">\n",
       "  <thead>\n",
       "    <tr style=\"text-align: right;\">\n",
       "      <th></th>\n",
       "      <th>pages_visited</th>\n",
       "      <th>clicks</th>\n",
       "      <th>features_explored</th>\n",
       "      <th>signup_offer_used</th>\n",
       "      <th>referral_flag</th>\n",
       "      <th>video_views</th>\n",
       "      <th>forms_completed</th>\n",
       "      <th>likes_given</th>\n",
       "      <th>search_queries</th>\n",
       "      <th>scroll_depth</th>\n",
       "      <th>age</th>\n",
       "      <th>income</th>\n",
       "      <th>location</th>\n",
       "      <th>time_of_day</th>\n",
       "      <th>device_type</th>\n",
       "      <th>signup_flag</th>\n",
       "      <th>customer_id</th>\n",
       "    </tr>\n",
       "  </thead>\n",
       "  <tbody>\n",
       "    <tr>\n",
       "      <th>0</th>\n",
       "      <td>150</td>\n",
       "      <td>29</td>\n",
       "      <td>150</td>\n",
       "      <td>250</td>\n",
       "      <td>115</td>\n",
       "      <td>600</td>\n",
       "      <td>150</td>\n",
       "      <td>19</td>\n",
       "      <td>208</td>\n",
       "      <td>1257</td>\n",
       "      <td>18</td>\n",
       "      <td>120000.000000</td>\n",
       "      <td>urban</td>\n",
       "      <td>afternoon</td>\n",
       "      <td>mobile</td>\n",
       "      <td>0</td>\n",
       "      <td>1</td>\n",
       "    </tr>\n",
       "    <tr>\n",
       "      <th>1</th>\n",
       "      <td>150</td>\n",
       "      <td>150</td>\n",
       "      <td>0</td>\n",
       "      <td>146</td>\n",
       "      <td>117</td>\n",
       "      <td>563</td>\n",
       "      <td>121</td>\n",
       "      <td>150</td>\n",
       "      <td>215</td>\n",
       "      <td>1342</td>\n",
       "      <td>18</td>\n",
       "      <td>119914.671927</td>\n",
       "      <td>urban</td>\n",
       "      <td>afternoon</td>\n",
       "      <td>desktop</td>\n",
       "      <td>0</td>\n",
       "      <td>2</td>\n",
       "    </tr>\n",
       "    <tr>\n",
       "      <th>2</th>\n",
       "      <td>150</td>\n",
       "      <td>145</td>\n",
       "      <td>150</td>\n",
       "      <td>0</td>\n",
       "      <td>17</td>\n",
       "      <td>518</td>\n",
       "      <td>0</td>\n",
       "      <td>130</td>\n",
       "      <td>300</td>\n",
       "      <td>1171</td>\n",
       "      <td>75</td>\n",
       "      <td>120000.000000</td>\n",
       "      <td>urban</td>\n",
       "      <td>night</td>\n",
       "      <td>desktop</td>\n",
       "      <td>0</td>\n",
       "      <td>3</td>\n",
       "    </tr>\n",
       "    <tr>\n",
       "      <th>3</th>\n",
       "      <td>0</td>\n",
       "      <td>150</td>\n",
       "      <td>150</td>\n",
       "      <td>221</td>\n",
       "      <td>0</td>\n",
       "      <td>582</td>\n",
       "      <td>67</td>\n",
       "      <td>115</td>\n",
       "      <td>274</td>\n",
       "      <td>1229</td>\n",
       "      <td>75</td>\n",
       "      <td>120000.000000</td>\n",
       "      <td>urban</td>\n",
       "      <td>morning</td>\n",
       "      <td>tablet</td>\n",
       "      <td>0</td>\n",
       "      <td>5</td>\n",
       "    </tr>\n",
       "    <tr>\n",
       "      <th>4</th>\n",
       "      <td>0</td>\n",
       "      <td>35</td>\n",
       "      <td>0</td>\n",
       "      <td>82</td>\n",
       "      <td>83</td>\n",
       "      <td>554</td>\n",
       "      <td>0</td>\n",
       "      <td>150</td>\n",
       "      <td>193</td>\n",
       "      <td>1208</td>\n",
       "      <td>18</td>\n",
       "      <td>119944.962249</td>\n",
       "      <td>rural</td>\n",
       "      <td>afternoon</td>\n",
       "      <td>tablet</td>\n",
       "      <td>0</td>\n",
       "      <td>9</td>\n",
       "    </tr>\n",
       "  </tbody>\n",
       "</table>\n",
       "</div>"
      ],
      "text/plain": [
       "   pages_visited  clicks  features_explored  signup_offer_used  referral_flag  \\\n",
       "0            150      29                150                250            115   \n",
       "1            150     150                  0                146            117   \n",
       "2            150     145                150                  0             17   \n",
       "3              0     150                150                221              0   \n",
       "4              0      35                  0                 82             83   \n",
       "\n",
       "   video_views  forms_completed  likes_given  search_queries  scroll_depth  \\\n",
       "0          600              150           19             208          1257   \n",
       "1          563              121          150             215          1342   \n",
       "2          518                0          130             300          1171   \n",
       "3          582               67          115             274          1229   \n",
       "4          554                0          150             193          1208   \n",
       "\n",
       "   age         income location time_of_day device_type  signup_flag  \\\n",
       "0   18  120000.000000    urban   afternoon      mobile            0   \n",
       "1   18  119914.671927    urban   afternoon     desktop            0   \n",
       "2   75  120000.000000    urban       night     desktop            0   \n",
       "3   75  120000.000000    urban     morning      tablet            0   \n",
       "4   18  119944.962249    rural   afternoon      tablet            0   \n",
       "\n",
       "   customer_id  \n",
       "0            1  \n",
       "1            2  \n",
       "2            3  \n",
       "3            5  \n",
       "4            9  "
      ]
     },
     "execution_count": 20,
     "metadata": {},
     "output_type": "execute_result"
    }
   ],
   "source": [
    "df1_imbalanced.head()"
   ]
  },
  {
   "cell_type": "code",
   "execution_count": 21,
   "id": "5c763f31-ca2e-4c29-97a1-452a09ba71bd",
   "metadata": {
    "tags": []
   },
   "outputs": [
    {
     "data": {
      "text/html": [
       "<div>\n",
       "<style scoped>\n",
       "    .dataframe tbody tr th:only-of-type {\n",
       "        vertical-align: middle;\n",
       "    }\n",
       "\n",
       "    .dataframe tbody tr th {\n",
       "        vertical-align: top;\n",
       "    }\n",
       "\n",
       "    .dataframe thead th {\n",
       "        text-align: right;\n",
       "    }\n",
       "</style>\n",
       "<table border=\"1\" class=\"dataframe\">\n",
       "  <thead>\n",
       "    <tr style=\"text-align: right;\">\n",
       "      <th></th>\n",
       "      <th>pages_visited</th>\n",
       "      <th>clicks</th>\n",
       "      <th>features_explored</th>\n",
       "      <th>signup_offer_used</th>\n",
       "      <th>referral_flag</th>\n",
       "      <th>video_views</th>\n",
       "      <th>forms_completed</th>\n",
       "      <th>likes_given</th>\n",
       "      <th>search_queries</th>\n",
       "      <th>scroll_depth</th>\n",
       "      <th>age</th>\n",
       "      <th>income</th>\n",
       "      <th>signup_flag</th>\n",
       "      <th>customer_id</th>\n",
       "    </tr>\n",
       "  </thead>\n",
       "  <tbody>\n",
       "    <tr>\n",
       "      <th>count</th>\n",
       "      <td>60000.000000</td>\n",
       "      <td>60000.000000</td>\n",
       "      <td>60000.000000</td>\n",
       "      <td>60000.000000</td>\n",
       "      <td>60000.000000</td>\n",
       "      <td>60000.000000</td>\n",
       "      <td>60000.000000</td>\n",
       "      <td>60000.000000</td>\n",
       "      <td>60000.00000</td>\n",
       "      <td>60000.00000</td>\n",
       "      <td>60000.000000</td>\n",
       "      <td>60000.000000</td>\n",
       "      <td>60000.000000</td>\n",
       "      <td>60000.000000</td>\n",
       "    </tr>\n",
       "    <tr>\n",
       "      <th>mean</th>\n",
       "      <td>87.637667</td>\n",
       "      <td>86.825200</td>\n",
       "      <td>89.541467</td>\n",
       "      <td>180.871850</td>\n",
       "      <td>85.731083</td>\n",
       "      <td>489.678267</td>\n",
       "      <td>87.896517</td>\n",
       "      <td>86.990717</td>\n",
       "      <td>258.77705</td>\n",
       "      <td>1183.60345</td>\n",
       "      <td>46.485733</td>\n",
       "      <td>119959.822894</td>\n",
       "      <td>0.166667</td>\n",
       "      <td>49964.502233</td>\n",
       "    </tr>\n",
       "    <tr>\n",
       "      <th>std</th>\n",
       "      <td>58.223519</td>\n",
       "      <td>58.395568</td>\n",
       "      <td>57.958951</td>\n",
       "      <td>72.254772</td>\n",
       "      <td>58.591538</td>\n",
       "      <td>87.049241</td>\n",
       "      <td>58.230050</td>\n",
       "      <td>58.438104</td>\n",
       "      <td>59.48569</td>\n",
       "      <td>107.08066</td>\n",
       "      <td>26.273588</td>\n",
       "      <td>58.710845</td>\n",
       "      <td>0.372681</td>\n",
       "      <td>28856.439402</td>\n",
       "    </tr>\n",
       "    <tr>\n",
       "      <th>min</th>\n",
       "      <td>0.000000</td>\n",
       "      <td>0.000000</td>\n",
       "      <td>0.000000</td>\n",
       "      <td>0.000000</td>\n",
       "      <td>0.000000</td>\n",
       "      <td>84.000000</td>\n",
       "      <td>0.000000</td>\n",
       "      <td>0.000000</td>\n",
       "      <td>0.00000</td>\n",
       "      <td>749.00000</td>\n",
       "      <td>18.000000</td>\n",
       "      <td>119571.691333</td>\n",
       "      <td>0.000000</td>\n",
       "      <td>1.000000</td>\n",
       "    </tr>\n",
       "    <tr>\n",
       "      <th>25%</th>\n",
       "      <td>31.000000</td>\n",
       "      <td>29.000000</td>\n",
       "      <td>34.000000</td>\n",
       "      <td>132.000000</td>\n",
       "      <td>27.000000</td>\n",
       "      <td>430.000000</td>\n",
       "      <td>31.000000</td>\n",
       "      <td>29.000000</td>\n",
       "      <td>230.00000</td>\n",
       "      <td>1112.00000</td>\n",
       "      <td>18.000000</td>\n",
       "      <td>119932.161283</td>\n",
       "      <td>0.000000</td>\n",
       "      <td>24996.500000</td>\n",
       "    </tr>\n",
       "    <tr>\n",
       "      <th>50%</th>\n",
       "      <td>98.000000</td>\n",
       "      <td>97.000000</td>\n",
       "      <td>102.000000</td>\n",
       "      <td>201.000000</td>\n",
       "      <td>95.000000</td>\n",
       "      <td>498.000000</td>\n",
       "      <td>99.000000</td>\n",
       "      <td>97.000000</td>\n",
       "      <td>297.00000</td>\n",
       "      <td>1185.00000</td>\n",
       "      <td>46.500000</td>\n",
       "      <td>120000.000000</td>\n",
       "      <td>0.000000</td>\n",
       "      <td>50007.500000</td>\n",
       "    </tr>\n",
       "    <tr>\n",
       "      <th>75%</th>\n",
       "      <td>150.000000</td>\n",
       "      <td>150.000000</td>\n",
       "      <td>150.000000</td>\n",
       "      <td>250.000000</td>\n",
       "      <td>150.000000</td>\n",
       "      <td>565.000000</td>\n",
       "      <td>150.000000</td>\n",
       "      <td>150.000000</td>\n",
       "      <td>300.00000</td>\n",
       "      <td>1257.00000</td>\n",
       "      <td>75.000000</td>\n",
       "      <td>120000.000000</td>\n",
       "      <td>0.000000</td>\n",
       "      <td>74881.250000</td>\n",
       "    </tr>\n",
       "    <tr>\n",
       "      <th>max</th>\n",
       "      <td>150.000000</td>\n",
       "      <td>150.000000</td>\n",
       "      <td>150.000000</td>\n",
       "      <td>250.000000</td>\n",
       "      <td>150.000000</td>\n",
       "      <td>600.000000</td>\n",
       "      <td>150.000000</td>\n",
       "      <td>150.000000</td>\n",
       "      <td>300.00000</td>\n",
       "      <td>1500.00000</td>\n",
       "      <td>75.000000</td>\n",
       "      <td>120000.000000</td>\n",
       "      <td>1.000000</td>\n",
       "      <td>100000.000000</td>\n",
       "    </tr>\n",
       "  </tbody>\n",
       "</table>\n",
       "</div>"
      ],
      "text/plain": [
       "       pages_visited        clicks  features_explored  signup_offer_used  \\\n",
       "count   60000.000000  60000.000000       60000.000000       60000.000000   \n",
       "mean       87.637667     86.825200          89.541467         180.871850   \n",
       "std        58.223519     58.395568          57.958951          72.254772   \n",
       "min         0.000000      0.000000           0.000000           0.000000   \n",
       "25%        31.000000     29.000000          34.000000         132.000000   \n",
       "50%        98.000000     97.000000         102.000000         201.000000   \n",
       "75%       150.000000    150.000000         150.000000         250.000000   \n",
       "max       150.000000    150.000000         150.000000         250.000000   \n",
       "\n",
       "       referral_flag   video_views  forms_completed   likes_given  \\\n",
       "count   60000.000000  60000.000000     60000.000000  60000.000000   \n",
       "mean       85.731083    489.678267        87.896517     86.990717   \n",
       "std        58.591538     87.049241        58.230050     58.438104   \n",
       "min         0.000000     84.000000         0.000000      0.000000   \n",
       "25%        27.000000    430.000000        31.000000     29.000000   \n",
       "50%        95.000000    498.000000        99.000000     97.000000   \n",
       "75%       150.000000    565.000000       150.000000    150.000000   \n",
       "max       150.000000    600.000000       150.000000    150.000000   \n",
       "\n",
       "       search_queries  scroll_depth           age         income  \\\n",
       "count     60000.00000   60000.00000  60000.000000   60000.000000   \n",
       "mean        258.77705    1183.60345     46.485733  119959.822894   \n",
       "std          59.48569     107.08066     26.273588      58.710845   \n",
       "min           0.00000     749.00000     18.000000  119571.691333   \n",
       "25%         230.00000    1112.00000     18.000000  119932.161283   \n",
       "50%         297.00000    1185.00000     46.500000  120000.000000   \n",
       "75%         300.00000    1257.00000     75.000000  120000.000000   \n",
       "max         300.00000    1500.00000     75.000000  120000.000000   \n",
       "\n",
       "        signup_flag    customer_id  \n",
       "count  60000.000000   60000.000000  \n",
       "mean       0.166667   49964.502233  \n",
       "std        0.372681   28856.439402  \n",
       "min        0.000000       1.000000  \n",
       "25%        0.000000   24996.500000  \n",
       "50%        0.000000   50007.500000  \n",
       "75%        0.000000   74881.250000  \n",
       "max        1.000000  100000.000000  "
      ]
     },
     "execution_count": 21,
     "metadata": {},
     "output_type": "execute_result"
    }
   ],
   "source": [
    "df1_imbalanced.describe()"
   ]
  },
  {
   "cell_type": "code",
   "execution_count": 22,
   "id": "2968f2d4-cecf-4136-a338-18fd39c80fd0",
   "metadata": {
    "tags": []
   },
   "outputs": [],
   "source": [
    "df1_imbalanced.to_csv('app_signup_dataset.csv', index=False)"
   ]
  },
  {
   "cell_type": "code",
   "execution_count": 23,
   "id": "925a2ac1-4a84-4560-b3e6-78b4d69b9c2a",
   "metadata": {},
   "outputs": [
    {
     "ename": "SyntaxError",
     "evalue": "invalid syntax (2938429678.py, line 1)",
     "output_type": "error",
     "traceback": [
      "\u001b[0;36m  Cell \u001b[0;32mIn[23], line 1\u001b[0;36m\u001b[0m\n\u001b[0;31m    ***\u001b[0m\n\u001b[0m    ^\u001b[0m\n\u001b[0;31mSyntaxError\u001b[0m\u001b[0;31m:\u001b[0m invalid syntax\n"
     ]
    }
   ],
   "source": [
    "***"
   ]
  },
  {
   "cell_type": "markdown",
   "id": "86a34f92-6a27-49ac-af40-ba45fd618231",
   "metadata": {
    "tags": []
   },
   "source": [
    "# 2. segmentation"
   ]
  },
  {
   "cell_type": "code",
   "execution_count": null,
   "id": "dba0c45e-77ae-407c-98a9-db05c66ec387",
   "metadata": {},
   "outputs": [],
   "source": [
    "centroids = [\n",
    "    [50000, 15, 5, 10, 2, 1000000, 20, 30, 25, 35, 50, 0, 0, 0, 0, 5, 30, 70, 3],   # Conservative investors\n",
    "    [1500000, 5, 15, 30, 1, 8000000, 30, 20, 40, 10, 25, 1, 1, 1, 1, 9, 60, 40, 8],  # High-risk investors\n",
    "    [500000, 10, 10, 20, 1.5, 4000000, 25, 25, 30, 20, 35, 1, 1, 1, 1, 7, 50, 50, 6], # Balanced investors\n",
    "    [200000, 20, 7, 15, 1.8, 2000000, 15, 35, 20, 40, 45, 0, 0, 0, 0, 6, 40, 60, 4],  # Low-risk investors\n",
    "    [800000, 8, 12, 25, 1.2, 6000000, 28, 28, 35, 25, 30, 1, 1, 1, 1, 8, 55, 45, 7],  # Growth-focused investors\n",
    "    [1000000, 12, 8, 18, 1.7, 5000000, 22, 22, 28, 22, 40, 0, 0, 0, 0, 7, 48, 52, 5],  # Moderate-risk investors\n",
    "]"
   ]
  },
  {
   "cell_type": "code",
   "execution_count": null,
   "id": "0ae79ef1-d292-48b1-866b-4682edaa680d",
   "metadata": {},
   "outputs": [],
   "source": [
    "n_samples = 100000\n",
    "n_features = len(centroids[0])\n",
    "n_clusters = len(centroids)"
   ]
  },
  {
   "cell_type": "code",
   "execution_count": null,
   "id": "76e0f91f-d458-42a8-8254-b2f84057a5b7",
   "metadata": {},
   "outputs": [],
   "source": [
    "X, y = make_blobs(n_samples=n_samples, centers=centroids, n_features=n_features, random_state=42)"
   ]
  },
  {
   "cell_type": "code",
   "execution_count": null,
   "id": "a53e1cc9-1c81-467a-822d-1ee238361f1d",
   "metadata": {},
   "outputs": [],
   "source": [
    "feature_names = [\n",
    "    \"Total_Investment\", \"Investment_Tenure\", \"Average_Return\", \"Portfolio_Volatility\",\n",
    "    \"Expense_Ratio\", \"Fund_Size\", \"Sector_Allocation_Tech\", \"Sector_Allocation_Healthcare\",\n",
    "    \"Sector_Allocation_Finance\", \"Sector_Allocation_RealEstate\", \"Transaction_Frequency\",\n",
    "    \"Risk_Appetite_Flag\", \"Redemption_Frequency_Flag\", \"Preferred_Equity_Flag\",\n",
    "    \"Preferred_Debt_Flag\", \"Diversification_Index\", \"Top_3_Fund_Concentration\",\n",
    "    \"Remaining_Fund_Allocation\", \"Average_Holding_Period\"\n",
    "]"
   ]
  },
  {
   "cell_type": "code",
   "execution_count": null,
   "id": "b04d85e5-d957-442a-b12e-19c078647bfd",
   "metadata": {},
   "outputs": [],
   "source": [
    "df2 = pd.DataFrame(X, columns=feature_names)"
   ]
  },
  {
   "cell_type": "code",
   "execution_count": null,
   "id": "32ce063b-07e6-438f-9b20-5f36cf0c1577",
   "metadata": {},
   "outputs": [],
   "source": [
    "df2[\"Cluster\"] = y"
   ]
  },
  {
   "cell_type": "code",
   "execution_count": null,
   "id": "1d99a0d7-d278-44c2-a7d2-b3d0e848d2f1",
   "metadata": {
    "tags": []
   },
   "outputs": [],
   "source": [
    "int_columns = [\n",
    "    \"Fund_Size\", \"Sector_Allocation_Tech\", \n",
    "    \"Sector_Allocation_Healthcare\", \"Sector_Allocation_Finance\",\n",
    "    \"Sector_Allocation_RealEstate\", \"Transaction_Frequency\",\n",
    "    \"Top_3_Fund_Concentration\", \"Remaining_Fund_Allocation\", \n",
    "    \"Average_Holding_Period\"\n",
    "]"
   ]
  },
  {
   "cell_type": "code",
   "execution_count": null,
   "id": "70030170-3759-41f2-a1fe-059b087a1c11",
   "metadata": {
    "tags": []
   },
   "outputs": [],
   "source": [
    "df2[int_columns] = df2[int_columns].round(0).astype(int)"
   ]
  },
  {
   "cell_type": "code",
   "execution_count": null,
   "id": "9d726568-5528-41ce-aa5b-9b8bd2c204c5",
   "metadata": {
    "tags": []
   },
   "outputs": [],
   "source": [
    "df2.head()"
   ]
  },
  {
   "cell_type": "code",
   "execution_count": null,
   "id": "03ba4b0b-5012-44f9-82e4-b65b21b60c8c",
   "metadata": {
    "tags": []
   },
   "outputs": [],
   "source": [
    "df2[\"customer_id\"] = range(1, len(df2) + 1)"
   ]
  },
  {
   "cell_type": "code",
   "execution_count": null,
   "id": "5ba21f41-557d-41cd-82e2-8f50009f9fd7",
   "metadata": {
    "tags": []
   },
   "outputs": [],
   "source": [
    "df2['Total_Investment'] = np.clip(df2['Total_Investment'], 50000, 1500000)\n",
    "df2['Investment_Tenure'] = np.clip(df2['Investment_Tenure'], 1, 30)\n",
    "df2['Average_Return'] = np.clip(df2['Average_Return'], 0, 20)\n",
    "df2['Portfolio_Volatility'] = np.clip(df2['Portfolio_Volatility'], 0, 50)\n",
    "df2['Expense_Ratio'] = np.clip(df2['Expense_Ratio'], 0, 5)\n",
    "df2['Fund_Size'] = np.clip(df2['Fund_Size'], 1e6, 1e8)\n",
    "df2['Sector_Allocation_Tech'] = np.clip(df2['Sector_Allocation_Tech'], 0, 100)\n",
    "df2['Sector_Allocation_Healthcare'] = np.clip(df2['Sector_Allocation_Healthcare'], 0, 100)\n",
    "df2['Sector_Allocation_Finance'] = np.clip(df2['Sector_Allocation_Finance'], 0, 100)\n",
    "df2['Sector_Allocation_RealEstate'] = np.clip(df2['Sector_Allocation_RealEstate'], 0, 100)\n",
    "df2['Risk_Appetite_Flag'] = np.clip(df2['Risk_Appetite_Flag'], 0, 3)\n",
    "df2['Redemption_Frequency_Flag'] = np.clip(df2['Redemption_Frequency_Flag'], -1, 3)\n",
    "df2['Preferred_Equity_Flag'] = np.clip(df2['Preferred_Equity_Flag'], 0, 3)\n",
    "df2['Preferred_Debt_Flag'] = np.clip(df2['Preferred_Debt_Flag'], 0, 3)\n",
    "df2['Diversification_Index'] = np.clip(df2['Diversification_Index'], 0, 10)\n",
    "df2['Top_3_Fund_Concentration'] = np.clip(df2['Top_3_Fund_Concentration'], 0, 100)\n",
    "df2['Remaining_Fund_Allocation'] = np.clip(df2['Remaining_Fund_Allocation'], 0, 100)\n",
    "df2['Average_Holding_Period'] = np.clip(df2['Average_Holding_Period'], 1, 15)"
   ]
  },
  {
   "cell_type": "code",
   "execution_count": null,
   "id": "687dd50b-485a-4a93-b408-9d94886af3d8",
   "metadata": {
    "tags": []
   },
   "outputs": [],
   "source": [
    "df2.shape"
   ]
  },
  {
   "cell_type": "code",
   "execution_count": null,
   "id": "520395ec-eec2-4a2c-9750-5d8773477fba",
   "metadata": {
    "tags": []
   },
   "outputs": [],
   "source": [
    "df2.head()"
   ]
  },
  {
   "cell_type": "code",
   "execution_count": null,
   "id": "5ca5d1e7-4abf-474d-8e24-61ea51a36d12",
   "metadata": {
    "tags": []
   },
   "outputs": [],
   "source": [
    "df2.describe()"
   ]
  },
  {
   "cell_type": "markdown",
   "id": "e1f3eda2-adc4-454e-be1d-09e7b9580717",
   "metadata": {},
   "source": [
    "# 3. propensity to buy"
   ]
  },
  {
   "cell_type": "code",
   "execution_count": 123,
   "id": "267d271b-1ef6-446f-9cd4-b03ff856c000",
   "metadata": {
    "tags": []
   },
   "outputs": [],
   "source": [
    "feature_names = [\n",
    "    \"Age\", \"Income\", \"Risk_Appetite\", \"Preferred_Investment_Type\", \"Credit_Score\",\n",
    "    \"Loan_History\", \"Monthly_Savings\", \"Annual_Expenses\", \"Debt_to_Income_Ratio\",\n",
    "    \"Website_Visits\", \"Mutual_Fund_Pages_Visited\", \"Content_Viewed\",\n",
    "    \"Promotional_Responses\", \"Referral_Usage\", \"Geographic_Region\"\n",
    "]"
   ]
  },
  {
   "cell_type": "code",
   "execution_count": 125,
   "id": "f4431e29-b00b-4fac-bca4-4383249ca4ff",
   "metadata": {
    "tags": []
   },
   "outputs": [],
   "source": [
    "target_names = [\n",
    "    \"Equity_Fund\", \"Debt_Fund\", \"Hybrid_Fund\", \"Tax_Saving_Fund\",\n",
    "    \"Liquid_Fund\", \"Index_Fund\", \"Sectoral_Thematic_Fund\"\n",
    "]"
   ]
  },
  {
   "cell_type": "code",
   "execution_count": null,
   "id": "390c280a-8f00-4e13-9faa-37e6433d02ee",
   "metadata": {
    "tags": []
   },
   "outputs": [],
   "source": [
    "_, y = make_multilabel_classification(\n",
    "    n_samples=100000,\n",
    "    n_features=15,\n",
    "    n_classes=7,\n",
    "    n_labels=3,\n",
    "    random_state=42\n",
    ")\n",
    "y_df = pd.DataFrame(y, columns=target_names)"
   ]
  },
  {
   "cell_type": "code",
   "execution_count": null,
   "id": "8b53ac1c-b343-4206-bf8b-8e948183658b",
   "metadata": {
    "tags": []
   },
   "outputs": [],
   "source": [
    "X_blob, _ = make_blobs(\n",
    "    n_samples=100000,\n",
    "    n_features=15,\n",
    "    centers=[\n",
    "        [30, 50000, 1, 1, 600, 2, 3000, 40000, 0.5, 20, 10, 5, 2, 0, 1],\n",
    "        [45, 100000, 2, 2, 750, 1, 7000, 80000, 0.2, 50, 25, 10, 5, 1, 2],\n",
    "        [35, 80000, 1, 0, 680, 3, 5000, 60000, 1.0, 30, 15, 7, 3, 0, 3],\n",
    "        [50, 40000, 0, 0, 620, 5, 2000, 30000, 1.5, 10, 5, 3, 1, 1, 4],\n",
    "        [28, 90000, 2, 1, 780, 0, 8000, 70000, 0.3, 40, 20, 8, 4, 0, 0],\n",
    "        [40, 30000, 0, 2, 640, 4, 2500, 35000, 1.8, 15, 8, 4, 2, 1, 1],\n",
    "        [55, 110000, 2, 2, 800, 1, 9000, 90000, 0.1, 60, 30, 12, 6, 0, 2]\n",
    "    ],\n",
    "    cluster_std=10.0,\n",
    "    random_state=42\n",
    ")"
   ]
  },
  {
   "cell_type": "code",
   "execution_count": null,
   "id": "623a0b1b-7a46-4bd8-83f9-b9e119d70a16",
   "metadata": {
    "tags": []
   },
   "outputs": [],
   "source": [
    "X_blob = pd.DataFrame(X_blob, columns=feature_names)\n",
    "X_blob['Age'] = np.clip(X_blob['Age'], 18, 65)  # Age range\n",
    "X_blob['Income'] = np.clip(X_blob['Income'], 20000, 150000)  # Income range\n",
    "X_blob['Risk_Appetite'] = np.clip(X_blob['Risk_Appetite'], 0, 2)  # Risk appetite\n",
    "X_blob['Preferred_Investment_Type'] = np.clip(X_blob['Preferred_Investment_Type'], 0, 2)  # Investment type\n",
    "X_blob['Credit_Score'] = np.clip(X_blob['Credit_Score'], 300, 850)  # Credit score\n",
    "X_blob['Loan_History'] = np.clip(X_blob['Loan_History'], 0, 10)  # Loan history\n",
    "X_blob['Monthly_Savings'] = np.clip(X_blob['Monthly_Savings'], 1000, 10000)  # Savings\n",
    "X_blob['Annual_Expenses'] = np.clip(X_blob['Annual_Expenses'], 20000, 120000)  # Annual expenses\n",
    "X_blob['Debt_to_Income_Ratio'] = np.clip(X_blob['Debt_to_Income_Ratio'], 0.1, 2.0)  # Debt-to-income ratio\n",
    "X_blob['Website_Visits'] = np.clip(X_blob['Website_Visits'], 0, 100)  # Website visits\n",
    "X_blob['Mutual_Fund_Pages_Visited'] = np.clip(X_blob['Mutual_Fund_Pages_Visited'], 0, 50)  # Pages visited\n",
    "X_blob['Content_Viewed'] = np.clip(X_blob['Content_Viewed'], 0, 20)  # Content viewed\n",
    "X_blob['Promotional_Responses'] = np.clip(X_blob['Promotional_Responses'], 0, 10)  # Promo responses\n",
    "X_blob['Referral_Usage'] = np.clip(X_blob['Referral_Usage'], 0, 1)  # Referral usage"
   ]
  },
  {
   "cell_type": "code",
   "execution_count": null,
   "id": "c532227a-5bbe-4df2-8860-cb96eb7aa146",
   "metadata": {
    "tags": []
   },
   "outputs": [],
   "source": [
    "df3 = pd.concat([X_blob, y_df], axis=1)"
   ]
  },
  {
   "cell_type": "code",
   "execution_count": null,
   "id": "523a62b7-1047-4dab-9b5f-5848d4e3ddb4",
   "metadata": {
    "tags": []
   },
   "outputs": [],
   "source": [
    "random_regions = [\"North\", \"South\", \"East\", \"West\", \"Central\", \"Northeast\", \"Southwest\", \"Midwest\", \"Southeast\"]"
   ]
  },
  {
   "cell_type": "code",
   "execution_count": null,
   "id": "98e827c1-b4b3-44b3-ba11-dba876b965b1",
   "metadata": {
    "tags": []
   },
   "outputs": [],
   "source": [
    "df3[\"Geographic_Region\"] = [random.choice(random_regions) for _ in range(len(df3))]"
   ]
  },
  {
   "cell_type": "code",
   "execution_count": null,
   "id": "546a11f7-c5b1-494b-9e57-8284656dcc4c",
   "metadata": {
    "tags": []
   },
   "outputs": [],
   "source": [
    "df3[\"customer_id\"] = range(1, len(df3) + 1)"
   ]
  },
  {
   "cell_type": "code",
   "execution_count": null,
   "id": "07852359-9ced-4daa-b579-e44f4f40fa31",
   "metadata": {
    "tags": []
   },
   "outputs": [],
   "source": [
    "df3_imbalanced = randomly_delete_target_1_multilabel(df3, target_names)"
   ]
  },
  {
   "cell_type": "code",
   "execution_count": null,
   "id": "a9153a31-3706-485e-aa91-d41d2afe7148",
   "metadata": {
    "tags": []
   },
   "outputs": [],
   "source": [
    "df3_imbalanced.shape"
   ]
  },
  {
   "cell_type": "code",
   "execution_count": null,
   "id": "b4c92377-7d77-4db1-8c2d-0dbac8cd6e2b",
   "metadata": {
    "tags": []
   },
   "outputs": [],
   "source": [
    "df3_imbalanced.head()"
   ]
  },
  {
   "cell_type": "code",
   "execution_count": null,
   "id": "0daf9cc0-9c68-41a5-baf5-27c12d4110fb",
   "metadata": {
    "tags": []
   },
   "outputs": [],
   "source": [
    "df3_imbalanced.describe()"
   ]
  },
  {
   "cell_type": "code",
   "execution_count": null,
   "id": "3f2d432a-fa7b-479b-9b2f-53257046b66f",
   "metadata": {},
   "outputs": [],
   "source": [
    "df3_imbalanced.to_csv('propensity_to_buy.csv', index=-False)"
   ]
  },
  {
   "cell_type": "code",
   "execution_count": null,
   "id": "f45da84c-6739-4d55-ab7a-01bfb91d6b82",
   "metadata": {},
   "outputs": [],
   "source": []
  },
  {
   "cell_type": "code",
   "execution_count": null,
   "id": "c9dd1e5d-0dda-48ab-a2b7-f43cde087dfa",
   "metadata": {},
   "outputs": [],
   "source": []
  },
  {
   "cell_type": "code",
   "execution_count": null,
   "id": "1ffc33a7-daef-4331-aac5-fe74d9c41c22",
   "metadata": {},
   "outputs": [],
   "source": []
  }
 ],
 "metadata": {
  "kernelspec": {
   "display_name": "Python 3 (ipykernel)",
   "language": "python",
   "name": "python3"
  },
  "language_info": {
   "codemirror_mode": {
    "name": "ipython",
    "version": 3
   },
   "file_extension": ".py",
   "mimetype": "text/x-python",
   "name": "python",
   "nbconvert_exporter": "python",
   "pygments_lexer": "ipython3",
   "version": "3.11.5"
  }
 },
 "nbformat": 4,
 "nbformat_minor": 5
}
